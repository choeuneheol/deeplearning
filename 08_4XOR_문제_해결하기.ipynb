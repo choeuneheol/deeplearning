{
  "nbformat": 4,
  "nbformat_minor": 0,
  "metadata": {
    "colab": {
      "name": "08-4XOR 문제 해결하기.ipynb",
      "provenance": [],
      "authorship_tag": "ABX9TyNaqt02Eoqn3MMGZkDoN+gG"
    },
    "kernelspec": {
      "name": "python3",
      "display_name": "Python 3"
    },
    "language_info": {
      "name": "python"
    }
  },
  "cells": [
    {
      "cell_type": "markdown",
      "source": [
        "퍼센트론 하나로 해결되지 않던 문제를 해결하기 위해서 은닉층을 생성"
      ],
      "metadata": {
        "id": "85XG-alzWncT"
      }
    },
    {
      "cell_type": "code",
      "execution_count": 1,
      "metadata": {
        "id": "iR_jaNEeP_9M"
      },
      "outputs": [],
      "source": [
        "import numpy as np\n",
        "\n",
        "w11 = np.array([-2,-2])\n",
        "w12 = np.array([2,2])\n",
        "w2 = np.array([1,1])\n",
        "b1 = 3\n",
        "b2 = -1\n",
        "b3 = -1\n"
      ]
    },
    {
      "cell_type": "code",
      "source": [
        "# 퍼셉트론 함수 생성\n",
        "def MLP(x,w,b):\n",
        "  y = np.sum(w * x) + b\n",
        "  if y <= 0:\n",
        "    return 0\n",
        "  else:\n",
        "    return 1\n",
        "# stepfunction"
      ],
      "metadata": {
        "id": "id7LKek2T4pO"
      },
      "execution_count": 2,
      "outputs": []
    },
    {
      "cell_type": "code",
      "source": [
        "# NAND 게이트\n",
        "def NAND(x1, x2):\n",
        "  return MLP(np.array([x1,x2]), w11, b1)\n",
        "\n",
        "# OR 게이트\n",
        "def OR(x1, x2):\n",
        "  return MLP(np.array([x1,x2]), w12, b2)\n",
        "\n",
        "# AND 게이트\n",
        "def AND(x1, x2):\n",
        "  return MLP(np.array([x1,x2]), w2, b3)\n",
        "\n",
        "# XOR 게이트\n",
        "def XOR(x1, x2):\n",
        "  return AND(NAND(x1, x2), OR(x1, x2))"
      ],
      "metadata": {
        "id": "XZ4KeyYOUd_M"
      },
      "execution_count": 3,
      "outputs": []
    },
    {
      "cell_type": "code",
      "source": [
        "for x in [(0, 0), (1, 0), (0, 1), (1, 1)]:\n",
        "  y = XOR(x[0], x[1])\n",
        "  print(\"입력 값: \" + str(x) + \"출력 값: \" + str(y))"
      ],
      "metadata": {
        "colab": {
          "base_uri": "https://localhost:8080/"
        },
        "id": "Kym0-N8jVfqx",
        "outputId": "e8e8808f-bde6-41db-fe1e-6e481dea3fe6"
      },
      "execution_count": 4,
      "outputs": [
        {
          "output_type": "stream",
          "name": "stdout",
          "text": [
            "입력 값: (0, 0)출력 값: 0\n",
            "입력 값: (1, 0)출력 값: 1\n",
            "입력 값: (0, 1)출력 값: 1\n",
            "입력 값: (1, 1)출력 값: 0\n"
          ]
        }
      ]
    },
    {
      "cell_type": "code",
      "source": [
        ""
      ],
      "metadata": {
        "id": "NG85IMOAV32T"
      },
      "execution_count": null,
      "outputs": []
    }
  ]
}